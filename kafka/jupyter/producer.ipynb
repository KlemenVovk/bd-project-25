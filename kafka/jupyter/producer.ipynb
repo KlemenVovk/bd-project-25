{
 "cells": [
  {
   "cell_type": "code",
   "execution_count": null,
   "id": "c0e07952-8793-4bc6-b86f-a2c79ed9abbe",
   "metadata": {
    "scrolled": true
   },
   "outputs": [],
   "source": [
    "from confluent_kafka import Producer\n",
    "import pandas as pd\n",
    "import json\n",
    "import time\n",
    "\n",
    "df = pd.read_parquet(\"./data/part.191.parquet\")\n",
    "df = df.sort_values(\"pickup_datetime\")\n",
    "\n",
    "# Kafka config\n",
    "conf = {\n",
    "    'bootstrap.servers': 'broker1-kr:9092'\n",
    "}\n",
    "producer = Producer(conf)\n",
    "\n",
    "topic = 'yellow_taxi_stream'\n",
    "\n",
    "\n",
    "for _, row in df.iterrows():\n",
    "    data = row.to_dict()\n",
    "\n",
    "    # Convert Timestamps to strings\n",
    "    for key, value in data.items():\n",
    "        if isinstance(value, pd.Timestamp):\n",
    "            data[key] = value.isoformat()\n",
    "\n",
    "    message = json.dumps(data)\n",
    "    producer.produce(topic, value=message)\n",
    "    producer.flush()\n",
    "    print(f\"Produced: {message}\")\n",
    "    time.sleep(0.5)\n",
    "\n"
   ]
  },
  {
   "cell_type": "code",
   "execution_count": null,
   "id": "a060e4c9-d94a-45e8-a12e-4b80c55a1c72",
   "metadata": {},
   "outputs": [],
   "source": []
  }
 ],
 "metadata": {
  "kernelspec": {
   "display_name": "Python 3 (ipykernel)",
   "language": "python",
   "name": "python3"
  },
  "language_info": {
   "codemirror_mode": {
    "name": "ipython",
    "version": 3
   },
   "file_extension": ".py",
   "mimetype": "text/x-python",
   "name": "python",
   "nbconvert_exporter": "python",
   "pygments_lexer": "ipython3",
   "version": "3.9.22"
  }
 },
 "nbformat": 4,
 "nbformat_minor": 5
}
