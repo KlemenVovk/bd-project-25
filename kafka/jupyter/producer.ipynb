{
 "cells": [
  {
   "cell_type": "code",
   "execution_count": 1,
   "id": "c0e07952-8793-4bc6-b86f-a2c79ed9abbe",
   "metadata": {
    "scrolled": true
   },
   "outputs": [
    {
     "name": "stdout",
     "output_type": "stream",
     "text": [
      "Produced: {\"vendor_id\": 2, \"pickup_datetime\": \"2008-12-31T23:03:59\", \"dropoff_datetime\": \"2009-01-01T16:16:12\", \"passenger_count\": 1, \"trip_distance\": 2.4000000953674316, \"rate_code_id\": 1, \"store_and_fwd_flag\": 0, \"payment_type\": 1, \"fare_amount\": 19.799999237060547, \"extra\": 0.0, \"mta_tax\": 0.5, \"tip_amount\": 5.949999809265137, \"tolls_amount\": 0.0, \"improvement_surcharge\": 1.0, \"total_amount\": 29.75, \"congestion_surcharge\": 2.5, \"airport_fee\": 0.0, \"pickup_longitude\": -73.9655532836914, \"pickup_latitude\": 40.78247833251953, \"dropoff_longitude\": -73.9784927368164, \"dropoff_latitude\": 40.747745513916016, \"pickup_borough\": \"Manhattan\", \"dropoff_borough\": \"Manhattan\"}\n",
      "Produced: {\"vendor_id\": 2, \"pickup_datetime\": \"2008-12-31T23:58:01\", \"dropoff_datetime\": \"2009-01-01T13:22:34\", \"passenger_count\": 1, \"trip_distance\": 17.770000457763672, \"rate_code_id\": 2, \"store_and_fwd_flag\": 0, \"payment_type\": 1, \"fare_amount\": 70.0, \"extra\": 0.0, \"mta_tax\": 0.5, \"tip_amount\": 16.540000915527344, \"tolls_amount\": 6.940000057220459, \"improvement_surcharge\": 1.0, \"total_amount\": 99.2300033569336, \"congestion_surcharge\": 2.5, \"airport_fee\": 1.75, \"pickup_longitude\": -73.78652954101562, \"pickup_latitude\": 40.6469841003418, \"dropoff_longitude\": -73.97235870361328, \"dropoff_latitude\": 40.75668716430664, \"pickup_borough\": \"Queens\", \"dropoff_borough\": \"Manhattan\"}\n",
      "Produced: {\"vendor_id\": 2, \"pickup_datetime\": \"2009-01-01T00:06:17\", \"dropoff_datetime\": \"2009-01-01T00:30:36\", \"passenger_count\": 1, \"trip_distance\": 11.170000076293945, \"rate_code_id\": 1, \"store_and_fwd_flag\": 0, \"payment_type\": 2, \"fare_amount\": 45.70000076293945, \"extra\": 5.0, \"mta_tax\": 0.5, \"tip_amount\": 0.0, \"tolls_amount\": 6.940000057220459, \"improvement_surcharge\": 1.0, \"total_amount\": 60.88999938964844, \"congestion_surcharge\": 0.0, \"airport_fee\": 1.75, \"pickup_longitude\": -73.87362670898438, \"pickup_latitude\": 40.774375915527344, \"dropoff_longitude\": -73.85798645019531, \"dropoff_latitude\": 40.83774948120117, \"pickup_borough\": \"Queens\", \"dropoff_borough\": \"Bronx\"}\n",
      "Produced: {\"vendor_id\": 2, \"pickup_datetime\": \"2024-11-30T22:31:24\", \"dropoff_datetime\": \"2024-11-30T22:39:27\", \"passenger_count\": 1, \"trip_distance\": 1.5299999713897705, \"rate_code_id\": 1, \"store_and_fwd_flag\": 0, \"payment_type\": 1, \"fare_amount\": 10.0, \"extra\": 1.0, \"mta_tax\": 0.5, \"tip_amount\": 3.0, \"tolls_amount\": 0.0, \"improvement_surcharge\": 1.0, \"total_amount\": 18.0, \"congestion_surcharge\": 2.5, \"airport_fee\": 0.0, \"pickup_longitude\": -73.99513244628906, \"pickup_latitude\": 40.766239166259766, \"dropoff_longitude\": -73.9876480102539, \"dropoff_latitude\": 40.77596664428711, \"pickup_borough\": \"Manhattan\", \"dropoff_borough\": \"Manhattan\"}\n",
      "Produced: {\"vendor_id\": 2, \"pickup_datetime\": \"2024-11-30T22:52:48\", \"dropoff_datetime\": \"2024-11-30T23:01:19\", \"passenger_count\": 1, \"trip_distance\": 0.9200000166893005, \"rate_code_id\": 1, \"store_and_fwd_flag\": 0, \"payment_type\": 1, \"fare_amount\": 9.300000190734863, \"extra\": 1.0, \"mta_tax\": 0.5, \"tip_amount\": 2.859999895095825, \"tolls_amount\": 0.0, \"improvement_surcharge\": 1.0, \"total_amount\": 17.15999984741211, \"congestion_surcharge\": 2.5, \"airport_fee\": 0.0, \"pickup_longitude\": -73.9898452758789, \"pickup_latitude\": 40.76225280761719, \"dropoff_longitude\": -73.99991607666016, \"dropoff_latitude\": 40.74842834472656, \"pickup_borough\": \"Manhattan\", \"dropoff_borough\": \"Manhattan\"}\n",
      "Produced: {\"vendor_id\": 2, \"pickup_datetime\": \"2024-11-30T23:03:00\", \"dropoff_datetime\": \"2024-11-30T23:46:45\", \"passenger_count\": 1, \"trip_distance\": 2.9600000381469727, \"rate_code_id\": 1, \"store_and_fwd_flag\": 0, \"payment_type\": 1, \"fare_amount\": 35.900001525878906, \"extra\": 1.0, \"mta_tax\": 0.5, \"tip_amount\": 6.139999866485596, \"tolls_amount\": 0.0, \"improvement_surcharge\": 1.0, \"total_amount\": 47.040000915527344, \"congestion_surcharge\": 2.5, \"airport_fee\": 0.0, \"pickup_longitude\": -73.99243927001953, \"pickup_latitude\": 40.748497009277344, \"dropoff_longitude\": -73.95963287353516, \"dropoff_latitude\": 40.76694869995117, \"pickup_borough\": \"Manhattan\", \"dropoff_borough\": \"Manhattan\"}\n",
      "Produced: {\"vendor_id\": 2, \"pickup_datetime\": \"2024-11-30T23:24:37\", \"dropoff_datetime\": \"2024-11-30T23:51:15\", \"passenger_count\": 1, \"trip_distance\": 3.190000057220459, \"rate_code_id\": 1, \"store_and_fwd_flag\": 0, \"payment_type\": 1, \"fare_amount\": 24.0, \"extra\": 1.0, \"mta_tax\": 0.5, \"tip_amount\": 2.0, \"tolls_amount\": 0.0, \"improvement_surcharge\": 1.0, \"total_amount\": 31.0, \"congestion_surcharge\": 2.5, \"airport_fee\": 0.0, \"pickup_longitude\": -73.98419952392578, \"pickup_latitude\": 40.75981903076172, \"dropoff_longitude\": -73.99738311767578, \"dropoff_latitude\": 40.72834014892578, \"pickup_borough\": \"Manhattan\", \"dropoff_borough\": \"Manhattan\"}\n",
      "Produced: {\"vendor_id\": 2, \"pickup_datetime\": \"2024-11-30T23:30:58\", \"dropoff_datetime\": \"2024-11-30T23:52:32\", \"passenger_count\": 1, \"trip_distance\": 3.930000066757202, \"rate_code_id\": 1, \"store_and_fwd_flag\": 0, \"payment_type\": 1, \"fare_amount\": 24.0, \"extra\": 1.0, \"mta_tax\": 0.5, \"tip_amount\": 5.800000190734863, \"tolls_amount\": 0.0, \"improvement_surcharge\": 1.0, \"total_amount\": 34.79999923706055, \"congestion_surcharge\": 2.5, \"airport_fee\": 0.0, \"pickup_longitude\": -73.98878479003906, \"pickup_latitude\": 40.75351333618164, \"dropoff_longitude\": -73.9730453491211, \"dropoff_latitude\": 40.79170608520508, \"pickup_borough\": \"Manhattan\", \"dropoff_borough\": \"Manhattan\"}\n",
      "Produced: {\"vendor_id\": 2, \"pickup_datetime\": \"2024-11-30T23:40:28\", \"dropoff_datetime\": \"2024-11-30T23:47:52\", \"passenger_count\": 1, \"trip_distance\": 1.8200000524520874, \"rate_code_id\": 1, \"store_and_fwd_flag\": 0, \"payment_type\": 1, \"fare_amount\": 10.699999809265137, \"extra\": 1.0, \"mta_tax\": 0.5, \"tip_amount\": 3.140000104904175, \"tolls_amount\": 0.0, \"improvement_surcharge\": 1.0, \"total_amount\": 18.84000015258789, \"congestion_surcharge\": 2.5, \"airport_fee\": 0.0, \"pickup_longitude\": -73.97863006591797, \"pickup_latitude\": 40.78396224975586, \"dropoff_longitude\": -73.95474243164062, \"dropoff_latitude\": 40.76548385620117, \"pickup_borough\": \"Manhattan\", \"dropoff_borough\": \"Manhattan\"}\n",
      "Produced: {\"vendor_id\": 2, \"pickup_datetime\": \"2024-11-30T23:47:07\", \"dropoff_datetime\": \"2024-12-01T00:04:28\", \"passenger_count\": 3, \"trip_distance\": 3.430000066757202, \"rate_code_id\": 1, \"store_and_fwd_flag\": 0, \"payment_type\": 1, \"fare_amount\": 19.100000381469727, \"extra\": 1.0, \"mta_tax\": 0.5, \"tip_amount\": 5.0, \"tolls_amount\": 0.0, \"improvement_surcharge\": 1.0, \"total_amount\": 29.100000381469727, \"congestion_surcharge\": 2.5, \"airport_fee\": 0.0, \"pickup_longitude\": -73.99243927001953, \"pickup_latitude\": 40.748497009277344, \"dropoff_longitude\": -74.00788116455078, \"dropoff_latitude\": 40.7177734375, \"pickup_borough\": \"Manhattan\", \"dropoff_borough\": \"Manhattan\"}\n",
      "Produced: {\"vendor_id\": 2, \"pickup_datetime\": \"2024-11-30T23:52:36\", \"dropoff_datetime\": \"2024-11-30T23:54:48\", \"passenger_count\": 1, \"trip_distance\": 0.46000000834465027, \"rate_code_id\": 1, \"store_and_fwd_flag\": 0, \"payment_type\": 1, \"fare_amount\": 5.099999904632568, \"extra\": 1.0, \"mta_tax\": 0.5, \"tip_amount\": 1.0, \"tolls_amount\": 0.0, \"improvement_surcharge\": 1.0, \"total_amount\": 11.100000381469727, \"congestion_surcharge\": 2.5, \"airport_fee\": 0.0, \"pickup_longitude\": -73.97649383544922, \"pickup_latitude\": 40.740440368652344, \"dropoff_longitude\": -73.98405456542969, \"dropoff_latitude\": 40.73682403564453, \"pickup_borough\": \"Manhattan\", \"dropoff_borough\": \"Manhattan\"}\n",
      "Produced: {\"vendor_id\": 2, \"pickup_datetime\": \"2024-11-30T23:53:38\", \"dropoff_datetime\": \"2024-12-01T00:33:05\", \"passenger_count\": 1, \"trip_distance\": 20.270000457763672, \"rate_code_id\": 2, \"store_and_fwd_flag\": 0, \"payment_type\": 1, \"fare_amount\": 70.0, \"extra\": 0.0, \"mta_tax\": 0.5, \"tip_amount\": 15.149999618530273, \"tolls_amount\": 0.0, \"improvement_surcharge\": 1.0, \"total_amount\": 90.9000015258789, \"congestion_surcharge\": 2.5, \"airport_fee\": 1.75, \"pickup_longitude\": -73.78652954101562, \"pickup_latitude\": 40.6469841003418, \"dropoff_longitude\": -73.97696685791016, \"dropoff_latitude\": 40.723751068115234, \"pickup_borough\": \"Queens\", \"dropoff_borough\": \"Manhattan\"}\n",
      "Produced: {\"vendor_id\": 2, \"pickup_datetime\": \"2024-11-30T23:54:31\", \"dropoff_datetime\": \"2024-12-01T00:11:49\", \"passenger_count\": 1, \"trip_distance\": 9.270000457763672, \"rate_code_id\": 1, \"store_and_fwd_flag\": 0, \"payment_type\": 1, \"fare_amount\": 37.29999923706055, \"extra\": 6.0, \"mta_tax\": 0.5, \"tip_amount\": 11.199999809265137, \"tolls_amount\": 6.940000057220459, \"improvement_surcharge\": 1.0, \"total_amount\": 67.19000244140625, \"congestion_surcharge\": 2.5, \"airport_fee\": 1.75, \"pickup_longitude\": -73.86839294433594, \"pickup_latitude\": 40.76335144042969, \"dropoff_longitude\": -73.95963287353516, \"dropoff_latitude\": 40.76694869995117, \"pickup_borough\": \"Queens\", \"dropoff_borough\": \"Manhattan\"}\n",
      "Produced: {\"vendor_id\": 2, \"pickup_datetime\": \"2024-11-30T23:54:43\", \"dropoff_datetime\": \"2024-12-01T00:02:21\", \"passenger_count\": 1, \"trip_distance\": 0.8899999856948853, \"rate_code_id\": 1, \"store_and_fwd_flag\": 0, \"payment_type\": 1, \"fare_amount\": 8.600000381469727, \"extra\": 1.0, \"mta_tax\": 0.5, \"tip_amount\": 2.7200000286102295, \"tolls_amount\": 0.0, \"improvement_surcharge\": 1.0, \"total_amount\": 16.31999969482422, \"congestion_surcharge\": 2.5, \"airport_fee\": 0.0, \"pickup_longitude\": -74.00287628173828, \"pickup_latitude\": 40.73457717895508, \"dropoff_longitude\": -73.9859390258789, \"dropoff_latitude\": 40.72761917114258, \"pickup_borough\": \"Manhattan\", \"dropoff_borough\": \"Manhattan\"}\n",
      "Produced: {\"vendor_id\": 2, \"pickup_datetime\": \"2024-11-30T23:55:42\", \"dropoff_datetime\": \"2024-12-01T00:11:48\", \"passenger_count\": 1, \"trip_distance\": 3.740000009536743, \"rate_code_id\": 1, \"store_and_fwd_flag\": 0, \"payment_type\": 1, \"fare_amount\": 19.100000381469727, \"extra\": 1.0, \"mta_tax\": 0.5, \"tip_amount\": 3.619999885559082, \"tolls_amount\": 0.0, \"improvement_surcharge\": 1.0, \"total_amount\": 27.719999313354492, \"congestion_surcharge\": 2.5, \"airport_fee\": 0.0, \"pickup_longitude\": -73.9730453491211, \"pickup_latitude\": 40.79170608520508, \"dropoff_longitude\": -73.97769927978516, \"dropoff_latitude\": 40.758026123046875, \"pickup_borough\": \"Manhattan\", \"dropoff_borough\": \"Manhattan\"}\n",
      "Produced: {\"vendor_id\": 2, \"pickup_datetime\": \"2024-11-30T23:56:04\", \"dropoff_datetime\": \"2024-12-01T00:28:15\", \"passenger_count\": 1, \"trip_distance\": 7.619999885559082, \"rate_code_id\": 1, \"store_and_fwd_flag\": 0, \"payment_type\": 1, \"fare_amount\": 37.29999923706055, \"extra\": 1.0, \"mta_tax\": 0.5, \"tip_amount\": 8.460000038146973, \"tolls_amount\": 0.0, \"improvement_surcharge\": 1.0, \"total_amount\": 50.7599983215332, \"congestion_surcharge\": 2.5, \"airport_fee\": 0.0, \"pickup_longitude\": -74.00898742675781, \"pickup_latitude\": 40.73503494262695, \"dropoff_longitude\": -73.9407730102539, \"dropoff_latitude\": 40.81825637817383, \"pickup_borough\": \"Manhattan\", \"dropoff_borough\": \"Manhattan\"}\n",
      "Produced: {\"vendor_id\": 2, \"pickup_datetime\": \"2024-11-30T23:56:27\", \"dropoff_datetime\": \"2024-12-01T00:04:45\", \"passenger_count\": 1, \"trip_distance\": 1.6299999952316284, \"rate_code_id\": 1, \"store_and_fwd_flag\": 0, \"payment_type\": 1, \"fare_amount\": 10.699999809265137, \"extra\": 1.0, \"mta_tax\": 0.5, \"tip_amount\": 2.0799999237060547, \"tolls_amount\": 0.0, \"improvement_surcharge\": 1.0, \"total_amount\": 17.780000686645508, \"congestion_surcharge\": 2.5, \"airport_fee\": 0.0, \"pickup_longitude\": -73.97863006591797, \"pickup_latitude\": 40.78396224975586, \"dropoff_longitude\": -73.9898452758789, \"dropoff_latitude\": 40.76225280761719, \"pickup_borough\": \"Manhattan\", \"dropoff_borough\": \"Manhattan\"}\n",
      "Produced: {\"vendor_id\": 2, \"pickup_datetime\": \"2024-11-30T23:57:04\", \"dropoff_datetime\": \"2024-12-01T00:01:21\", \"passenger_count\": 1, \"trip_distance\": 0.5799999833106995, \"rate_code_id\": 1, \"store_and_fwd_flag\": 0, \"payment_type\": 1, \"fare_amount\": 6.5, \"extra\": 1.0, \"mta_tax\": 0.5, \"tip_amount\": 2.299999952316284, \"tolls_amount\": 0.0, \"improvement_surcharge\": 1.0, \"total_amount\": 13.800000190734863, \"congestion_surcharge\": 2.5, \"airport_fee\": 0.0, \"pickup_longitude\": -73.9859390258789, \"pickup_latitude\": 40.72761917114258, \"dropoff_longitude\": -73.98405456542969, \"dropoff_latitude\": 40.73682403564453, \"pickup_borough\": \"Manhattan\", \"dropoff_borough\": \"Manhattan\"}\n",
      "Produced: {\"vendor_id\": 2, \"pickup_datetime\": \"2024-11-30T23:57:55\", \"dropoff_datetime\": \"2024-12-01T00:04:19\", \"passenger_count\": 1, \"trip_distance\": 1.2100000381469727, \"rate_code_id\": 1, \"store_and_fwd_flag\": 0, \"payment_type\": 1, \"fare_amount\": 8.600000381469727, \"extra\": 1.0, \"mta_tax\": 0.5, \"tip_amount\": 2.7200000286102295, \"tolls_amount\": 0.0, \"improvement_surcharge\": 1.0, \"total_amount\": 16.31999969482422, \"congestion_surcharge\": 2.5, \"airport_fee\": 0.0, \"pickup_longitude\": -73.95101165771484, \"pickup_latitude\": 40.77876663208008, \"dropoff_longitude\": -73.97863006591797, \"dropoff_latitude\": 40.78396224975586, \"pickup_borough\": \"Manhattan\", \"dropoff_borough\": \"Manhattan\"}\n",
      "Produced: {\"vendor_id\": 2, \"pickup_datetime\": \"2024-11-30T23:57:58\", \"dropoff_datetime\": \"2024-12-01T00:06:40\", \"passenger_count\": 1, \"trip_distance\": 1.5700000524520874, \"rate_code_id\": 1, \"store_and_fwd_flag\": 0, \"payment_type\": 1, \"fare_amount\": 10.699999809265137, \"extra\": 1.0, \"mta_tax\": 0.5, \"tip_amount\": 3.140000104904175, \"tolls_amount\": 0.0, \"improvement_surcharge\": 1.0, \"total_amount\": 18.84000015258789, \"congestion_surcharge\": 2.5, \"airport_fee\": 0.0, \"pickup_longitude\": -73.99691772460938, \"pickup_latitude\": 40.720890045166016, \"dropoff_longitude\": -74.00287628173828, \"dropoff_latitude\": 40.73457717895508, \"pickup_borough\": \"Manhattan\", \"dropoff_borough\": \"Manhattan\"}\n",
      "Produced: {\"vendor_id\": 2, \"pickup_datetime\": \"2024-11-30T23:58:25\", \"dropoff_datetime\": \"2024-12-01T00:02:44\", \"passenger_count\": 1, \"trip_distance\": 0.7799999713897705, \"rate_code_id\": 1, \"store_and_fwd_flag\": 0, \"payment_type\": 1, \"fare_amount\": 6.5, \"extra\": 1.0, \"mta_tax\": 0.5, \"tip_amount\": 1.0, \"tolls_amount\": 0.0, \"improvement_surcharge\": 1.0, \"total_amount\": 12.5, \"congestion_surcharge\": 2.5, \"airport_fee\": 0.0, \"pickup_longitude\": -73.96563720703125, \"pickup_latitude\": 40.76861572265625, \"dropoff_longitude\": -73.97235870361328, \"dropoff_latitude\": 40.75668716430664, \"pickup_borough\": \"Manhattan\", \"dropoff_borough\": \"Manhattan\"}\n",
      "Produced: {\"vendor_id\": 2, \"pickup_datetime\": \"2024-11-30T23:58:41\", \"dropoff_datetime\": \"2024-12-01T00:13:50\", \"passenger_count\": 6, \"trip_distance\": 3.0899999141693115, \"rate_code_id\": 1, \"store_and_fwd_flag\": 0, \"payment_type\": 1, \"fare_amount\": 17.700000762939453, \"extra\": 1.0, \"mta_tax\": 0.5, \"tip_amount\": 4.539999961853027, \"tolls_amount\": 0.0, \"improvement_surcharge\": 1.0, \"total_amount\": 27.239999771118164, \"congestion_surcharge\": 2.5, \"airport_fee\": 0.0, \"pickup_longitude\": -74.00287628173828, \"pickup_latitude\": 40.73457717895508, \"dropoff_longitude\": -73.98570251464844, \"dropoff_latitude\": 40.7022590637207, \"pickup_borough\": \"Manhattan\", \"dropoff_borough\": \"Brooklyn\"}\n",
      "Produced: {\"vendor_id\": 2, \"pickup_datetime\": \"2024-11-30T23:58:42\", \"dropoff_datetime\": \"2024-12-01T00:07:19\", \"passenger_count\": 1, \"trip_distance\": 1.0800000429153442, \"rate_code_id\": 1, \"store_and_fwd_flag\": 0, \"payment_type\": 1, \"fare_amount\": 9.300000190734863, \"extra\": 1.0, \"mta_tax\": 0.5, \"tip_amount\": 2.859999895095825, \"tolls_amount\": 0.0, \"improvement_surcharge\": 1.0, \"total_amount\": 17.15999984741211, \"congestion_surcharge\": 2.5, \"airport_fee\": 0.0, \"pickup_longitude\": -73.96563720703125, \"pickup_latitude\": 40.76861572265625, \"dropoff_longitude\": -73.96514892578125, \"dropoff_latitude\": 40.75672912597656, \"pickup_borough\": \"Manhattan\", \"dropoff_borough\": \"Manhattan\"}\n",
      "Produced: {\"vendor_id\": 2, \"pickup_datetime\": \"2024-11-30T23:59:00\", \"dropoff_datetime\": \"2024-12-01T00:06:59\", \"passenger_count\": 1, \"trip_distance\": 1.659999966621399, \"rate_code_id\": 1, \"store_and_fwd_flag\": 0, \"payment_type\": 1, \"fare_amount\": 10.0, \"extra\": 1.0, \"mta_tax\": 0.5, \"tip_amount\": 3.75, \"tolls_amount\": 0.0, \"improvement_surcharge\": 1.0, \"total_amount\": 18.75, \"congestion_surcharge\": 2.5, \"airport_fee\": 0.0, \"pickup_longitude\": -73.95963287353516, \"pickup_latitude\": 40.76694869995117, \"dropoff_longitude\": -73.98152923583984, \"dropoff_latitude\": 40.77363204956055, \"pickup_borough\": \"Manhattan\", \"dropoff_borough\": \"Manhattan\"}\n",
      "Produced: {\"vendor_id\": 2, \"pickup_datetime\": \"2024-11-30T23:59:03\", \"dropoff_datetime\": \"2024-12-01T00:17:56\", \"passenger_count\": 2, \"trip_distance\": 4.369999885559082, \"rate_code_id\": 1, \"store_and_fwd_flag\": 0, \"payment_type\": 1, \"fare_amount\": 21.899999618530273, \"extra\": 1.0, \"mta_tax\": 0.5, \"tip_amount\": 5.380000114440918, \"tolls_amount\": 0.0, \"improvement_surcharge\": 1.0, \"total_amount\": 32.279998779296875, \"congestion_surcharge\": 2.5, \"airport_fee\": 0.0, \"pickup_longitude\": -73.9859390258789, \"pickup_latitude\": 40.72761917114258, \"dropoff_longitude\": -73.9655532836914, \"dropoff_latitude\": 40.78247833251953, \"pickup_borough\": \"Manhattan\", \"dropoff_borough\": \"Manhattan\"}\n",
      "Produced: {\"vendor_id\": 2, \"pickup_datetime\": \"2024-11-30T23:59:24\", \"dropoff_datetime\": \"2024-12-01T00:13:13\", \"passenger_count\": 2, \"trip_distance\": 2.4200000762939453, \"rate_code_id\": 1, \"store_and_fwd_flag\": 0, \"payment_type\": 1, \"fare_amount\": 15.600000381469727, \"extra\": 1.0, \"mta_tax\": 0.5, \"tip_amount\": 4.119999885559082, \"tolls_amount\": 0.0, \"improvement_surcharge\": 1.0, \"total_amount\": 24.719999313354492, \"congestion_surcharge\": 2.5, \"airport_fee\": 0.0, \"pickup_longitude\": -74.00287628173828, \"pickup_latitude\": 40.73457717895508, \"dropoff_longitude\": -74.003662109375, \"dropoff_latitude\": 40.70907211303711, \"pickup_borough\": \"Manhattan\", \"dropoff_borough\": \"Manhattan\"}\n",
      "Produced: {\"vendor_id\": 2, \"pickup_datetime\": \"2024-11-30T23:59:27\", \"dropoff_datetime\": \"2024-12-01T00:13:08\", \"passenger_count\": 1, \"trip_distance\": 3.1600000858306885, \"rate_code_id\": 1, \"store_and_fwd_flag\": 0, \"payment_type\": 1, \"fare_amount\": 17.0, \"extra\": 1.0, \"mta_tax\": 0.5, \"tip_amount\": 4.400000095367432, \"tolls_amount\": 0.0, \"improvement_surcharge\": 1.0, \"total_amount\": 26.399999618530273, \"congestion_surcharge\": 2.5, \"airport_fee\": 0.0, \"pickup_longitude\": -73.95101165771484, \"pickup_latitude\": 40.77876663208008, \"dropoff_longitude\": -73.98515319824219, \"dropoff_latitude\": 40.748573303222656, \"pickup_borough\": \"Manhattan\", \"dropoff_borough\": \"Manhattan\"}\n"
     ]
    },
    {
     "ename": "KeyboardInterrupt",
     "evalue": "",
     "output_type": "error",
     "traceback": [
      "\u001b[0;31m---------------------------------------------------------------------------\u001b[0m",
      "\u001b[0;31mKeyboardInterrupt\u001b[0m                         Traceback (most recent call last)",
      "Cell \u001b[0;32mIn[1], line 31\u001b[0m\n\u001b[1;32m     29\u001b[0m producer\u001b[38;5;241m.\u001b[39mflush()\n\u001b[1;32m     30\u001b[0m \u001b[38;5;28mprint\u001b[39m(\u001b[38;5;124mf\u001b[39m\u001b[38;5;124m\"\u001b[39m\u001b[38;5;124mProduced: \u001b[39m\u001b[38;5;132;01m{\u001b[39;00mmessage\u001b[38;5;132;01m}\u001b[39;00m\u001b[38;5;124m\"\u001b[39m)\n\u001b[0;32m---> 31\u001b[0m \u001b[43mtime\u001b[49m\u001b[38;5;241;43m.\u001b[39;49m\u001b[43msleep\u001b[49m\u001b[43m(\u001b[49m\u001b[38;5;241;43m0.5\u001b[39;49m\u001b[43m)\u001b[49m\n",
      "\u001b[0;31mKeyboardInterrupt\u001b[0m: "
     ]
    }
   ],
   "source": [
    "from confluent_kafka import Producer\n",
    "import pandas as pd\n",
    "import json\n",
    "import time\n",
    "\n",
    "df = pd.read_parquet(\"./data/part.191.parquet\")\n",
    "df = df.sort_values(\"pickup_datetime\")\n",
    "\n",
    "# Kafka config\n",
    "conf = {\n",
    "    'bootstrap.servers': 'broker1-kr:9092'\n",
    "}\n",
    "producer = Producer(conf)\n",
    "\n",
    "topic = 'yellow_taxi_stream'\n",
    "\n",
    "\n",
    "for _, row in df.iterrows():\n",
    "    data = row.to_dict()\n",
    "\n",
    "    # Convert Timestamps to strings\n",
    "    for key, value in data.items():\n",
    "        if isinstance(value, pd.Timestamp):\n",
    "            data[key] = value.isoformat()\n",
    "\n",
    "    message = json.dumps(data)\n",
    "    producer.produce(topic, value=message)\n",
    "    producer.flush()\n",
    "    print(f\"Produced: {message}\")\n",
    "    time.sleep(0.5)\n",
    "\n"
   ]
  },
  {
   "cell_type": "code",
   "execution_count": null,
   "id": "a060e4c9-d94a-45e8-a12e-4b80c55a1c72",
   "metadata": {},
   "outputs": [],
   "source": []
  }
 ],
 "metadata": {
  "kernelspec": {
   "display_name": "Python 3 (ipykernel)",
   "language": "python",
   "name": "python3"
  },
  "language_info": {
   "codemirror_mode": {
    "name": "ipython",
    "version": 3
   },
   "file_extension": ".py",
   "mimetype": "text/x-python",
   "name": "python",
   "nbconvert_exporter": "python",
   "pygments_lexer": "ipython3",
   "version": "3.9.22"
  }
 },
 "nbformat": 4,
 "nbformat_minor": 5
}
