{
 "cells": [
  {
   "cell_type": "code",
   "execution_count": 3,
   "id": "c0e07952-8793-4bc6-b86f-a2c79ed9abbe",
   "metadata": {},
   "outputs": [
    {
     "name": "stdout",
     "output_type": "stream",
     "text": [
      "Produced: {\"DOLocationID\": \"164\", \"PULocationID\": \"68\", \"access_a_ride_flag\": null, \"airport_fee\": \"0.0\", \"base_passenger_fare\": null, \"bcf\": null, \"cbd_congestion_fee\": \"0.0\", \"congestion_surcharge\": \"2.5\", \"dispatching_base_num\": null, \"driver_pay\": null, \"dropoff_borough\": \"Manhattan\", \"dropoff_datetime\": \"2023-01-01 00:10:05\", \"dropoff_latitude\": \"40.748573\", \"dropoff_longitude\": \"-73.98515\", \"extra\": \"1.0\", \"fare_amount\": \"9.3\", \"hvfhs_license_num\": null, \"improvement_surcharge\": \"1.0\", \"mta_tax\": \"0.5\", \"on_scene_datetime\": null, \"originating_base_num\": null, \"passenger_count\": \"1\", \"payment_type\": \"2\", \"pickup_borough\": \"Manhattan\", \"pickup_datetime\": \"2023-01-01 00:00:51\", \"pickup_latitude\": \"40.74843\", \"pickup_longitude\": \"-73.999916\", \"rate_code_id\": \"1\", \"request_datetime\": null, \"sales_tax\": null, \"shared_match_flag\": null, \"shared_request_flag\": null, \"store_and_fwd_flag\": \"0\", \"tip_amount\": \"0.0\", \"tips\": null, \"tolls\": null, \"tolls_amount\": \"0.0\", \"total_amount\": \"14.3\", \"trip_distance\": \"0.73\", \"trip_time\": null, \"vendor_id\": \"2\", \"wav_match_flag\": null, \"wav_request_flag\": null, \"year\": \"=2023\"}\n",
      "Produced: {\"DOLocationID\": \"158\", \"PULocationID\": \"68\", \"access_a_ride_flag\": null, \"airport_fee\": \"0.0\", \"base_passenger_fare\": null, \"bcf\": null, \"cbd_congestion_fee\": \"0.0\", \"congestion_surcharge\": \"2.5\", \"dispatching_base_num\": null, \"driver_pay\": null, \"dropoff_borough\": \"Manhattan\", \"dropoff_datetime\": \"2023-01-01 00:12:57\", \"dropoff_latitude\": \"40.735035\", \"dropoff_longitude\": \"-74.00899\", \"extra\": \"1.0\", \"fare_amount\": \"10.0\", \"hvfhs_license_num\": null, \"improvement_surcharge\": \"1.0\", \"mta_tax\": \"0.5\", \"on_scene_datetime\": null, \"originating_base_num\": null, \"passenger_count\": \"6\", \"payment_type\": \"1\", \"pickup_borough\": \"Manhattan\", \"pickup_datetime\": \"2023-01-01 00:03:33\", \"pickup_latitude\": \"40.74843\", \"pickup_longitude\": \"-73.999916\", \"rate_code_id\": \"1\", \"request_datetime\": null, \"sales_tax\": null, \"shared_match_flag\": null, \"shared_request_flag\": null, \"store_and_fwd_flag\": \"0\", \"tip_amount\": \"3.0\", \"tips\": null, \"tolls\": null, \"tolls_amount\": \"0.0\", \"total_amount\": \"18.0\", \"trip_distance\": \"1.19\", \"trip_time\": null, \"vendor_id\": \"2\", \"wav_match_flag\": null, \"wav_request_flag\": null, \"year\": \"=2023\"}\n",
      "Produced: {\"DOLocationID\": \"170\", \"PULocationID\": \"142\", \"access_a_ride_flag\": null, \"airport_fee\": \"0.0\", \"base_passenger_fare\": null, \"bcf\": null, \"cbd_congestion_fee\": \"0.0\", \"congestion_surcharge\": \"2.5\", \"dispatching_base_num\": null, \"driver_pay\": null, \"dropoff_borough\": \"Manhattan\", \"dropoff_datetime\": \"2023-01-01 00:37:58\", \"dropoff_latitude\": \"40.747746\", \"dropoff_longitude\": \"-73.97849\", \"extra\": \"1.0\", \"fare_amount\": \"28.9\", \"hvfhs_license_num\": null, \"improvement_surcharge\": \"1.0\", \"mta_tax\": \"0.5\", \"on_scene_datetime\": null, \"originating_base_num\": null, \"passenger_count\": \"1\", \"payment_type\": \"1\", \"pickup_borough\": \"Manhattan\", \"pickup_datetime\": \"2023-01-01 00:05:11\", \"pickup_latitude\": \"40.773632\", \"pickup_longitude\": \"-73.98153\", \"rate_code_id\": \"1\", \"request_datetime\": null, \"sales_tax\": null, \"shared_match_flag\": null, \"shared_request_flag\": null, \"store_and_fwd_flag\": \"0\", \"tip_amount\": \"6.78\", \"tips\": null, \"tolls\": null, \"tolls_amount\": \"0.0\", \"total_amount\": \"40.68\", \"trip_distance\": \"3.62\", \"trip_time\": null, \"vendor_id\": \"2\", \"wav_match_flag\": null, \"wav_request_flag\": null, \"year\": \"=2023\"}\n",
      "Produced: {\"DOLocationID\": \"41\", \"PULocationID\": \"239\", \"access_a_ride_flag\": null, \"airport_fee\": \"0.0\", \"base_passenger_fare\": null, \"bcf\": null, \"cbd_congestion_fee\": \"0.0\", \"congestion_surcharge\": \"2.5\", \"dispatching_base_num\": null, \"driver_pay\": null, \"dropoff_borough\": \"Manhattan\", \"dropoff_datetime\": \"2023-01-01 00:43:25\", \"dropoff_latitude\": \"40.804333\", \"dropoff_longitude\": \"-73.951294\", \"extra\": \"1.0\", \"fare_amount\": \"15.6\", \"hvfhs_license_num\": null, \"improvement_surcharge\": \"1.0\", \"mta_tax\": \"0.5\", \"on_scene_datetime\": null, \"originating_base_num\": null, \"passenger_count\": \"1\", \"payment_type\": \"1\", \"pickup_borough\": \"Manhattan\", \"pickup_datetime\": \"2023-01-01 00:31:23\", \"pickup_latitude\": \"40.783962\", \"pickup_longitude\": \"-73.97863\", \"rate_code_id\": \"1\", \"request_datetime\": null, \"sales_tax\": null, \"shared_match_flag\": null, \"shared_request_flag\": null, \"store_and_fwd_flag\": \"0\", \"tip_amount\": \"4.12\", \"tips\": null, \"tolls\": null, \"tolls_amount\": \"0.0\", \"total_amount\": \"24.72\", \"trip_distance\": \"3.06\", \"trip_time\": null, \"vendor_id\": \"2\", \"wav_match_flag\": null, \"wav_request_flag\": null, \"year\": \"=2023\"}\n"
     ]
    }
   ],
   "source": [
    "from confluent_kafka import Producer\n",
    "import pandas as pd\n",
    "import json\n",
    "import time\n",
    "\n",
    "df = pd.read_parquet(\"./data/part.0.parquet\")\n",
    "df = df.sort_values(\"pickup_datetime\")\n",
    "\n",
    "# Kafka config\n",
    "conf = {\n",
    "    'bootstrap.servers': 'broker1-kr:9092'\n",
    "}\n",
    "producer = Producer(conf)\n",
    "\n",
    "topic = 'yellow_taxi_stream'\n",
    "\n",
    "\n",
    "for _, row in df.iterrows():\n",
    "    data = row.to_dict()\n",
    "\n",
    "    # Convert Timestamps to strings\n",
    "    for key, value in data.items():\n",
    "        if isinstance(value, pd.Timestamp):\n",
    "            data[key] = value.isoformat()\n",
    "\n",
    "    message = json.dumps(data)\n",
    "    producer.produce(topic, value=message)\n",
    "    producer.flush()\n",
    "    print(f\"Produced: {message}\")\n",
    "    time.sleep(3)\n",
    "\n"
   ]
  },
  {
   "cell_type": "code",
   "execution_count": null,
   "id": "a060e4c9-d94a-45e8-a12e-4b80c55a1c72",
   "metadata": {},
   "outputs": [],
   "source": []
  }
 ],
 "metadata": {
  "kernelspec": {
   "display_name": "Python 3 (ipykernel)",
   "language": "python",
   "name": "python3"
  },
  "language_info": {
   "codemirror_mode": {
    "name": "ipython",
    "version": 3
   },
   "file_extension": ".py",
   "mimetype": "text/x-python",
   "name": "python",
   "nbconvert_exporter": "python",
   "pygments_lexer": "ipython3",
   "version": "3.9.22"
  }
 },
 "nbformat": 4,
 "nbformat_minor": 5
}
