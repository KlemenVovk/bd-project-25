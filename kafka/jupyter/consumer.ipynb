{
 "cells": [
  {
   "cell_type": "code",
   "execution_count": null,
   "id": "2637b43b-7aaa-4791-aa74-3f76088f4988",
   "metadata": {
    "scrolled": true
   },
   "outputs": [],
   "source": [
    "from confluent_kafka import Consumer\n",
    "import json\n",
    "\n",
    "conf = {\n",
    "    'bootstrap.servers': 'broker1-kr:9092',\n",
    "    'group.id': 'taxi_consumer_group',\n",
    "    'auto.offset.reset': 'earliest'\n",
    "}\n",
    "consumer = Consumer(conf)\n",
    "consumer.subscribe(['yellow_taxi_stream'])\n",
    "\n",
    "print(\"Consuming messages from 'yellow_taxi_stream'...\")\n",
    "\n",
    "try:\n",
    "    while True:\n",
    "        msg = consumer.poll(1.0)\n",
    "        if msg is None:\n",
    "            continue\n",
    "        if msg.error():\n",
    "            print(\"Consumer error:\", msg.error())\n",
    "            continue\n",
    "\n",
    "        data = json.loads(msg.value().decode('utf-8'))\n",
    "        print(\"Consumed:\", data)\n",
    "except KeyboardInterrupt:\n",
    "    pass\n",
    "finally:\n",
    "    consumer.close()\n"
   ]
  },
  {
   "cell_type": "code",
   "execution_count": null,
   "id": "2a9d259b-98e6-43e7-a272-2099d5ee5887",
   "metadata": {
    "scrolled": true
   },
   "outputs": [],
   "source": [
    "from confluent_kafka import Consumer\n",
    "import json\n",
    "\n",
    "conf = {\n",
    "    'bootstrap.servers': 'broker1-kr:9092',\n",
    "    'group.id': 'taxi_consumer_group',\n",
    "    'auto.offset.reset': 'earliest'\n",
    "}\n",
    "consumer = Consumer(conf)\n",
    "consumer.subscribe(['yellow_taxi_stats'])\n",
    "\n",
    "print(\"Consuming messages from 'yellow_taxi_stream'...\")\n",
    "\n",
    "try:\n",
    "    while True:\n",
    "        msg = consumer.poll(1.0)\n",
    "        if msg is None:\n",
    "            continue\n",
    "        if msg.error():\n",
    "            print(\"Consumer error:\", msg.error())\n",
    "            continue\n",
    "\n",
    "        data = json.loads(msg.value().decode('utf-8'))\n",
    "        print(\"Consumed:\", data)\n",
    "except KeyboardInterrupt:\n",
    "    pass\n",
    "finally:\n",
    "    consumer.close()"
   ]
  },
  {
   "cell_type": "code",
   "execution_count": null,
   "id": "a2734f7c-fa27-4041-868a-7fd7bb217e42",
   "metadata": {},
   "outputs": [],
   "source": []
  }
 ],
 "metadata": {
  "kernelspec": {
   "display_name": "Python 3 (ipykernel)",
   "language": "python",
   "name": "python3"
  },
  "language_info": {
   "codemirror_mode": {
    "name": "ipython",
    "version": 3
   },
   "file_extension": ".py",
   "mimetype": "text/x-python",
   "name": "python",
   "nbconvert_exporter": "python",
   "pygments_lexer": "ipython3",
   "version": "3.9.22"
  }
 },
 "nbformat": 4,
 "nbformat_minor": 5
}
