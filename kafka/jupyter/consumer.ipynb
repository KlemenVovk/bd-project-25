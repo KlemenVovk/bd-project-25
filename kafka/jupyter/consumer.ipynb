{
 "cells": [
  {
   "cell_type": "code",
   "execution_count": null,
   "id": "2637b43b-7aaa-4791-aa74-3f76088f4988",
   "metadata": {
    "scrolled": true
   },
   "outputs": [
    {
     "name": "stdout",
     "output_type": "stream",
     "text": [
      "Consuming messages from 'yellow_taxi_stream'...\n"
     ]
    },
    {
     "name": "stderr",
     "output_type": "stream",
     "text": [
      "%4|1753200789.485|OFFSET|rdkafka#consumer-1| [thrd:main]: yellow_taxi_stream [0]: offset reset (at offset 1829 (leader epoch 2), broker 1) to offset BEGINNING (leader epoch -1): fetch failed due to requested offset not available on the broker: Broker: Offset out of range\n"
     ]
    },
    {
     "name": "stdout",
     "output_type": "stream",
     "text": [
      "Consumed: yellow\n",
      "Consumed: yellow\n",
      "Consumed: yellow\n",
      "Consumed: yellow\n",
      "Consumed: yellow\n",
      "Consumed: yellow\n",
      "Consumed: yellow\n",
      "Consumed: yellow\n",
      "Consumed: yellow\n",
      "Consumed: yellow\n",
      "Consumed: yellow\n",
      "Consumed: yellow\n",
      "Consumed: yellow\n",
      "Consumed: yellow\n",
      "Consumed: yellow\n",
      "Consumed: yellow\n",
      "Consumed: yellow\n",
      "Consumed: yellow\n",
      "Consumed: yellow\n",
      "Consumed: yellow\n",
      "Consumed: yellow\n",
      "Consumed: yellow\n",
      "Consumed: yellow\n",
      "Consumed: yellow\n",
      "Consumed: yellow\n",
      "Consumed: yellow\n",
      "Consumed: yellow\n",
      "Consumed: yellow\n",
      "Consumed: yellow\n",
      "Consumed: yellow\n",
      "Consumed: yellow\n",
      "Consumed: yellow\n",
      "Consumed: yellow\n",
      "Consumed: yellow\n",
      "Consumed: yellow\n",
      "Consumed: yellow\n",
      "Consumed: yellow\n",
      "Consumed: yellow\n",
      "Consumed: yellow\n",
      "Consumed: yellow\n",
      "Consumed: yellow\n",
      "Consumed: yellow\n",
      "Consumed: yellow\n",
      "Consumed: yellow\n",
      "Consumed: yellow\n",
      "Consumed: yellow\n",
      "Consumed: yellow\n",
      "Consumed: yellow\n",
      "Consumed: yellow\n",
      "Consumed: yellow\n",
      "Consumed: yellow\n",
      "Consumed: yellow\n",
      "Consumed: yellow\n",
      "Consumed: yellow\n",
      "Consumed: yellow\n",
      "Consumed: yellow\n",
      "Consumed: yellow\n",
      "Consumed: yellow\n"
     ]
    }
   ],
   "source": [
    "from confluent_kafka import Consumer\n",
    "import json\n",
    "\n",
    "conf = {\n",
    "    'bootstrap.servers': 'broker1-kr:9092',\n",
    "    'group.id': 'taxi_consumer_group',\n",
    "    'auto.offset.reset': 'earliest'\n",
    "}\n",
    "consumer = Consumer(conf)\n",
    "consumer.subscribe(['yellow_taxi_stream'])\n",
    "# consumer.subscribe(['fhvhv_taxi_stream'])\n",
    "\n",
    "\n",
    "print(\"Consuming messages from 'yellow_taxi_stream'...\")\n",
    "\n",
    "try:\n",
    "    while True:\n",
    "        msg = consumer.poll(1.0)\n",
    "        if msg is None:\n",
    "            continue\n",
    "        if msg.error():\n",
    "            print(\"Consumer error:\", msg.error())\n",
    "            continue\n",
    "\n",
    "        data = json.loads(msg.value().decode('utf-8'))\n",
    "        print(\"Consumed:\", data[\"source\"])\n",
    "except KeyboardInterrupt:\n",
    "    pass\n",
    "finally:\n",
    "    consumer.close()\n"
   ]
  },
  {
   "cell_type": "code",
   "execution_count": null,
   "id": "2a9d259b-98e6-43e7-a272-2099d5ee5887",
   "metadata": {},
   "outputs": [],
   "source": [
    "from confluent_kafka import Consumer\n",
    "import json\n",
    "\n",
    "conf = {\n",
    "    'bootstrap.servers': 'broker1-kr:9092',\n",
    "    'group.id': 'taxi_consumer_group',\n",
    "    'auto.offset.reset': 'earliest'\n",
    "}\n",
    "consumer = Consumer(conf)\n",
    "consumer.subscribe(['yellow_taxi_stats'])\n",
    "\n",
    "print(\"Consuming messages from 'yellow_taxi_stream'...\")\n",
    "\n",
    "try:\n",
    "    while True:\n",
    "        msg = consumer.poll(1.0)\n",
    "        if msg is None:\n",
    "            continue\n",
    "        if msg.error():\n",
    "            print(\"Consumer error:\", msg.error())\n",
    "            continue\n",
    "\n",
    "        data = json.loads(msg.value().decode('utf-8'))\n",
    "        print(\"Consumed:\", data)\n",
    "except KeyboardInterrupt:\n",
    "    pass\n",
    "finally:\n",
    "    consumer.close()"
   ]
  },
  {
   "cell_type": "code",
   "execution_count": 2,
   "id": "a2734f7c-fa27-4041-868a-7fd7bb217e42",
   "metadata": {},
   "outputs": [
    {
     "name": "stdout",
     "output_type": "stream",
     "text": [
      "Consuming messages from 'yellow_taxi_cluster_stream'...\n"
     ]
    },
    {
     "name": "stderr",
     "output_type": "stream",
     "text": [
      "%4|1753029902.612|OFFSET|rdkafka#consumer-2| [thrd:main]: yellow_taxi_stream [0]: offset reset (at offset 24 (leader epoch 0), broker 1) to offset BEGINNING (leader epoch -1): fetch failed due to requested offset not available on the broker: Broker: Offset out of range\n"
     ]
    },
    {
     "ename": "KeyError",
     "evalue": "'cluster_id'",
     "output_type": "error",
     "traceback": [
      "\u001b[0;31m---------------------------------------------------------------------------\u001b[0m",
      "\u001b[0;31mKeyError\u001b[0m                                  Traceback (most recent call last)",
      "Cell \u001b[0;32mIn[2], line 33\u001b[0m\n\u001b[1;32m     30\u001b[0m     \u001b[38;5;28;01mcontinue\u001b[39;00m\n\u001b[1;32m     32\u001b[0m update \u001b[38;5;241m=\u001b[39m json\u001b[38;5;241m.\u001b[39mloads(msg\u001b[38;5;241m.\u001b[39mvalue()\u001b[38;5;241m.\u001b[39mdecode(\u001b[38;5;124m'\u001b[39m\u001b[38;5;124mutf-8\u001b[39m\u001b[38;5;124m'\u001b[39m))\n\u001b[0;32m---> 33\u001b[0m cid \u001b[38;5;241m=\u001b[39m \u001b[43mupdate\u001b[49m\u001b[43m[\u001b[49m\u001b[38;5;124;43m'\u001b[39;49m\u001b[38;5;124;43mcluster_id\u001b[39;49m\u001b[38;5;124;43m'\u001b[39;49m\u001b[43m]\u001b[49m\n\u001b[1;32m     34\u001b[0m centroids[cid] \u001b[38;5;241m=\u001b[39m [update[\u001b[38;5;124m'\u001b[39m\u001b[38;5;124mlat\u001b[39m\u001b[38;5;124m'\u001b[39m], update[\u001b[38;5;124m'\u001b[39m\u001b[38;5;124mlng\u001b[39m\u001b[38;5;124m'\u001b[39m]]\n\u001b[1;32m     36\u001b[0m df \u001b[38;5;241m=\u001b[39m pd\u001b[38;5;241m.\u001b[39mDataFrame(centroids, columns\u001b[38;5;241m=\u001b[39m[\u001b[38;5;124m\"\u001b[39m\u001b[38;5;124mlat\u001b[39m\u001b[38;5;124m\"\u001b[39m, \u001b[38;5;124m\"\u001b[39m\u001b[38;5;124mlon\u001b[39m\u001b[38;5;124m\"\u001b[39m])\n",
      "\u001b[0;31mKeyError\u001b[0m: 'cluster_id'"
     ]
    }
   ],
   "source": [
    "from confluent_kafka import Consumer\n",
    "import json\n",
    "import plotly.express as px\n",
    "import pandas as pd\n",
    "import numpy as np\n",
    "import time\n",
    "from IPython.display import display, clear_output\n",
    "\n",
    "NUM_CLUSTERS = 2\n",
    "\n",
    "centroids = np.array([[40.75, -74.0], [40.73, -73.93]])\n",
    "\n",
    "conf = {\n",
    "    'bootstrap.servers': 'broker1-kr:9092',\n",
    "    'group.id': 'taxi_consumer_group',\n",
    "    'auto.offset.reset': 'earliest'\n",
    "}\n",
    "consumer = Consumer(conf)\n",
    "consumer.subscribe(['yellow_taxi_stream'])\n",
    "\n",
    "print(\"Consuming messages from 'yellow_taxi_stream'...\")\n",
    "\n",
    "try:\n",
    "    while True:\n",
    "        msg = consumer.poll(1.0)\n",
    "        if msg is None:\n",
    "            continue\n",
    "        if msg.error():\n",
    "            print(\"Consumer error:\", msg.error())\n",
    "            continue\n",
    "\n",
    "        update = json.loads(msg.value().decode('utf-8'))\n",
    "        cid = update['cluster_id']\n",
    "        centroids[cid] = [update['lat'], update['lng']]\n",
    "    \n",
    "        df = pd.DataFrame(centroids, columns=[\"lat\", \"lon\"])\n",
    "        df[\"cluster\"] = [f\"Cluster {i}\" for i in range(NUM_CLUSTERS)]\n",
    "    \n",
    "        fig = px.scatter_mapbox(df, lat=\"lat\", lon=\"lon\", color=\"cluster\", zoom=9)\n",
    "        fig.update_layout(mapbox_style=\"carto-positron\",\n",
    "                          mapbox_center={\"lat\": 40.73, \"lon\": -73.98},\n",
    "                          margin={\"r\":0,\"t\":0,\"l\":0,\"b\":0})\n",
    "    \n",
    "        clear_output(wait=True)\n",
    "        display(fig)\n",
    "        time.sleep(3)\n",
    "except KeyboardInterrupt:\n",
    "    pass\n",
    "finally:\n",
    "    consumer.close()\n",
    "\n",
    "\n",
    "\n",
    "\n",
    "\n",
    "\n",
    "\n",
    "\n",
    "\n"
   ]
  },
  {
   "cell_type": "code",
   "execution_count": null,
   "id": "9c1552af-7603-4d27-b48f-72061c687b10",
   "metadata": {},
   "outputs": [],
   "source": []
  }
 ],
 "metadata": {
  "kernelspec": {
   "display_name": "bigData",
   "language": "python",
   "name": "python3"
  },
  "language_info": {
   "codemirror_mode": {
    "name": "ipython",
    "version": 3
   },
   "file_extension": ".py",
   "mimetype": "text/x-python",
   "name": "python",
   "nbconvert_exporter": "python",
   "pygments_lexer": "ipython3",
   "version": "3.11.11"
  }
 },
 "nbformat": 4,
 "nbformat_minor": 5
}
